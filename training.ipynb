{
 "cells": [
  {
   "cell_type": "code",
   "execution_count": 1,
   "metadata": {},
   "outputs": [],
   "source": [
    "import os\n",
    "import zipfile\n",
    "import random\n",
    "import tensorflow as tf\n",
    "import shutil\n",
    "from tensorflow.keras.optimizers import RMSprop\n",
    "from tensorflow.keras.preprocessing.image import ImageDataGenerator\n",
    "from shutil import copyfile\n",
    "from os import getcwd"
   ]
  },
  {
   "cell_type": "code",
   "execution_count": 2,
   "metadata": {},
   "outputs": [
    {
     "data": {
      "text/plain": [
       "'C:\\\\Users\\\\ASUS\\\\Documents\\\\Lectures\\\\BANGKIT\\\\ml-bangjek\\\\The GIT\\\\leafwell-ml/Dataset Medicinal'"
      ]
     },
     "execution_count": 2,
     "metadata": {},
     "output_type": "execute_result"
    }
   ],
   "source": [
    "f\"{getcwd()}/Dataset Medicinal\""
   ]
  },
  {
   "cell_type": "code",
   "execution_count": 3,
   "metadata": {},
   "outputs": [],
   "source": [
    "#path_medicinal_leaf_data = f\"{getcwd()}/Dataset Medicinal/dataset_medicinal_leaf.zip\"\n",
    "path_medicinal_leaf_data = f\"{getcwd()}/Dataset Medicinal/leaf_dataset.zip\"\n",
    "\n",
    "local_zip = path_medicinal_leaf_data\n",
    "zip_ref = zipfile.ZipFile(local_zip, 'r')\n",
    "shutil.rmtree('/tmp')\n",
    "zip_ref.extractall('/tmp')\n",
    "zip_ref.close()"
   ]
  },
  {
   "cell_type": "code",
   "execution_count": 4,
   "metadata": {},
   "outputs": [
    {
     "data": {
      "text/plain": [
       "['Amaranthus Viridis (Arive-Dantu)',\n",
       " 'Basella Alba (Basale)',\n",
       " 'Ficus Auriculata (Roxburgh fig)',\n",
       " 'Moringa Oleifera (Drumstick)',\n",
       " 'Muntingia Calabura (Jamaica Cherry-Gasagase)',\n",
       " 'Murraya Koenigii (Curry)',\n",
       " 'Nyctanthes Arbor-tristis (Parijata)',\n",
       " 'Ocimum Tenuiflorum (Tulsi)',\n",
       " 'Piper Betle (Betel)',\n",
       " 'Psidium Guajava (Guava)']"
      ]
     },
     "execution_count": 4,
     "metadata": {},
     "output_type": "execute_result"
    }
   ],
   "source": [
    "#os.listdir('/tmp/Segmented Medicinal Leaf Images')\n",
    "os.listdir('/tmp/Segmented Medicinal Leaf Images')"
   ]
  },
  {
   "cell_type": "code",
   "execution_count": 5,
   "metadata": {},
   "outputs": [
    {
     "data": {
      "image/png": "[encoded data removed]",
      "text/plain": [
       "<Figure size 432x288 with 1 Axes>"
      ]
     },
     "metadata": {
      "needs_background": "light"
     },
     "output_type": "display_data"
    }
   ],
   "source": [
    "langs = []\n",
    "qty = []\n",
    "\n",
    "for x in os.listdir('/tmp/Segmented Medicinal Leaf Images'):\n",
    "    langs.append(x)\n",
    "    qty.append(len(os.listdir('/tmp/Segmented Medicinal Leaf Images/'+ x)))\n",
    "    \n",
    "import matplotlib.pyplot as plt\n",
    "fig = plt.figure()\n",
    "ax = fig.add_axes([0,0,1,1])\n",
    "langs = langs\n",
    "qty = qty\n",
    "ax.bar(langs,qty)\n",
    "plt.show()"
   ]
  },
  {
   "cell_type": "code",
   "execution_count": 6,
   "metadata": {},
   "outputs": [],
   "source": [
    "os.mkdir('/tmp/medicinal-leaf')\n",
    "os.mkdir('/tmp/medicinal-leaf/training')\n",
    "os.mkdir('/tmp/medicinal-leaf/testing')\n",
    "    \n",
    "for x in os.listdir('/tmp/Segmented Medicinal Leaf Images'):\n",
    "    os.mkdir('/tmp/medicinal-leaf/training/' + x)\n",
    "    os.mkdir('/tmp/medicinal-leaf/testing/' + x)"
   ]
  },
  {
   "cell_type": "code",
   "execution_count": 7,
   "metadata": {},
   "outputs": [],
   "source": [
    "def split_data(SOURCE, TRAINING, TESTING, SPLIT_SIZE):\n",
    "    files = list()\n",
    "    for fname in os.listdir(SOURCE):\n",
    "        f = SOURCE + fname\n",
    "        if os.path.getsize(f) > 0:\n",
    "            files.append(fname)\n",
    "\n",
    "    training_length = int(len(files) * SPLIT_SIZE)\n",
    "    testing_length = int(len(files) - training_length)\n",
    "    shuffled = random.sample(files, len(files))\n",
    "    training_set = shuffled[0:training_length]\n",
    "    testing_set = shuffled[:testing_length]\n",
    "\n",
    "    for fname in training_set:\n",
    "        tfile = SOURCE + fname\n",
    "        destin = TRAINING + fname\n",
    "        copyfile(tfile, destin)\n",
    "        \n",
    "    for fname in testing_set:\n",
    "        tfile = SOURCE + fname\n",
    "        destin = TESTING + fname\n",
    "        copyfile(tfile, destin)\n",
    "\n",
    "split_size = .9\n",
    "\n",
    "for x in os.listdir('/tmp/Segmented Medicinal Leaf Images'):\n",
    "    split_data('/tmp/Segmented Medicinal Leaf Images/'+ x + '/', '/tmp/medicinal-leaf/training/' + x + '/', '/tmp/medicinal-leaf/testing/' + x + '/', split_size)"
   ]
  },
  {
   "cell_type": "code",
   "execution_count": 8,
   "metadata": {},
   "outputs": [
    {
     "name": "stdout",
     "output_type": "stream",
     "text": [
      "name: Amaranthus Viridis (Arive-Dantu)\n",
      "train: 109\n",
      "test 13\n",
      "---------------------------------------------------------\n",
      "name: Basella Alba (Basale)\n",
      "train: 92\n",
      "test 11\n",
      "---------------------------------------------------------\n",
      "name: Ficus Auriculata (Roxburgh fig)\n",
      "train: 45\n",
      "test 5\n",
      "---------------------------------------------------------\n",
      "name: Moringa Oleifera (Drumstick)\n",
      "train: 69\n",
      "test 8\n",
      "---------------------------------------------------------\n",
      "name: Muntingia Calabura (Jamaica Cherry-Gasagase)\n",
      "train: 50\n",
      "test 6\n",
      "---------------------------------------------------------\n",
      "name: Murraya Koenigii (Curry)\n",
      "train: 54\n",
      "test 6\n",
      "---------------------------------------------------------\n",
      "name: Nyctanthes Arbor-tristis (Parijata)\n",
      "train: 36\n",
      "test 4\n",
      "---------------------------------------------------------\n",
      "name: Ocimum Tenuiflorum (Tulsi)\n",
      "train: 46\n",
      "test 6\n",
      "---------------------------------------------------------\n",
      "name: Piper Betle (Betel)\n",
      "train: 43\n",
      "test 5\n",
      "---------------------------------------------------------\n",
      "name: Psidium Guajava (Guava)\n",
      "train: 58\n",
      "test 7\n",
      "---------------------------------------------------------\n"
     ]
    }
   ],
   "source": [
    "for x in os.listdir('/tmp/Segmented Medicinal Leaf Images'):\n",
    "    print('name:', x)\n",
    "    print('train:', len(os.listdir('/tmp/medicinal-leaf/training/'+ x + '/')))\n",
    "    print('test', len(os.listdir('/tmp/medicinal-leaf/testing/'+ x + '/')))\n",
    "    print('---------------------------------------------------------')"
   ]
  },
  {
   "cell_type": "code",
   "execution_count": 9,
   "metadata": {},
   "outputs": [
    {
     "name": "stdout",
     "output_type": "stream",
     "text": [
      "WARNING:tensorflow:From C:\\Users\\ASUS\\Anaconda3\\envs\\tensorflow\\lib\\site-packages\\tensorflow_core\\python\\ops\\resource_variable_ops.py:1630: calling BaseResourceVariable.__init__ (from tensorflow.python.ops.resource_variable_ops) with constraint is deprecated and will be removed in a future version.\n",
      "Instructions for updating:\n",
      "If using Keras pass *_constraint arguments to layers.\n",
      "Model: \"sequential\"\n",
      "_________________________________________________________________\n",
      "Layer (type)                 Output Shape              Param #   \n",
      "=================================================================\n",
      "conv2d (Conv2D)              (None, 148, 148, 16)      448       \n",
      "_________________________________________________________________\n",
      "max_pooling2d (MaxPooling2D) (None, 74, 74, 16)        0         \n",
      "_________________________________________________________________\n",
      "conv2d_1 (Conv2D)            (None, 72, 72, 32)        4640      \n",
      "_________________________________________________________________\n",
      "max_pooling2d_1 (MaxPooling2 (None, 36, 36, 32)        0         \n",
      "_________________________________________________________________\n",
      "conv2d_2 (Conv2D)            (None, 34, 34, 64)        18496     \n",
      "_________________________________________________________________\n",
      "max_pooling2d_2 (MaxPooling2 (None, 17, 17, 64)        0         \n",
      "_________________________________________________________________\n",
      "flatten (Flatten)            (None, 18496)             0         \n",
      "_________________________________________________________________\n",
      "dense (Dense)                (None, 512)               9470464   \n",
      "_________________________________________________________________\n",
      "dense_1 (Dense)              (None, 10)                5130      \n",
      "=================================================================\n",
      "Total params: 9,499,178\n",
      "Trainable params: 9,499,178\n",
      "Non-trainable params: 0\n",
      "_________________________________________________________________\n"
     ]
    }
   ],
   "source": [
    "# DEFINE A KERAS MODEL TO CLASSIFY\n",
    "model = tf.keras.models.Sequential([\n",
    "    tf.keras.layers.Conv2D(16, (3,3), activation='relu', input_shape=(150,150, 3)),\n",
    "    tf.keras.layers.MaxPooling2D(2,2),\n",
    "    tf.keras.layers.Conv2D(32, (3,3), activation='relu'),\n",
    "    tf.keras.layers.MaxPooling2D(2,2),\n",
    "    tf.keras.layers.Conv2D(64, (3,3), activation='relu'),\n",
    "    tf.keras.layers.MaxPooling2D(2,2),\n",
    "    tf.keras.layers.Flatten(),\n",
    "    tf.keras.layers.Dense(units= 512, activation='relu'),\n",
    "    tf.keras.layers.Dense(units= 10, activation='softmax')\n",
    "])\n",
    "\n",
    "model.compile(optimizer='adam', loss='categorical_crossentropy', metrics=['accuracy'])\n",
    "model.summary()"
   ]
  },
  {
   "cell_type": "code",
   "execution_count": 10,
   "metadata": {},
   "outputs": [
    {
     "name": "stdout",
     "output_type": "stream",
     "text": [
      "Found 602 images belonging to 10 classes.\n",
      "Found 71 images belonging to 10 classes.\n"
     ]
    }
   ],
   "source": [
    "TRAINING_DIR = '/tmp/medicinal-leaf/training'\n",
    "train_datagen = ImageDataGenerator(\n",
    "    rescale = 1/255,\n",
    "    rotation_range = 40,\n",
    "    width_shift_range = 0.2,\n",
    "    height_shift_range = 0.2,\n",
    "    shear_range = 0.2,\n",
    "    zoom_range = 0.2,\n",
    "    horizontal_flip = True,\n",
    "    fill_mode = 'nearest'\n",
    ")\n",
    "\n",
    "# TRAIN GENERATOR.\n",
    "train_generator = train_datagen.flow_from_directory(\n",
    "    TRAINING_DIR,\n",
    "    batch_size = 10,\n",
    "    target_size = (150,150),\n",
    "    class_mode = 'categorical' \n",
    ")\n",
    "\n",
    "VALIDATION_DIR = '/tmp/medicinal-leaf/testing'\n",
    "validation_datagen = ImageDataGenerator(\n",
    "    rescale = 1/255,\n",
    "    rotation_range = 40,\n",
    "    width_shift_range = 0.2,\n",
    "    height_shift_range = 0.2,\n",
    "    shear_range = 0.2,\n",
    "    zoom_range = 0.2,\n",
    "    horizontal_flip = True,\n",
    "    fill_mode = 'nearest'\n",
    ")\n",
    "\n",
    "# VALIDATION GENERATOR.\n",
    "validation_generator = validation_datagen.flow_from_directory(\n",
    "    VALIDATION_DIR,\n",
    "    batch_size = 10,\n",
    "    target_size = (150,150),\n",
    "    class_mode = 'categorical' \n",
    ")"
   ]
  },
  {
   "cell_type": "code",
   "execution_count": 15,
   "metadata": {},
   "outputs": [
    {
     "name": "stdout",
     "output_type": "stream",
     "text": [
      "Epoch 1/10\n",
      "59/60 [============================>.] - ETA: 0s - loss: 0.6391 - acc: 0.7560Epoch 1/10\n",
      "60/60 [==============================] - 21s 355ms/step - loss: 0.6356 - acc: 0.7584 - val_loss: 0.5510 - val_acc: 0.8000\n",
      "Epoch 2/10\n",
      "59/60 [============================>.] - ETA: 0s - loss: 0.5739 - acc: 0.8144Epoch 1/10\n",
      "60/60 [==============================] - 21s 350ms/step - loss: 0.5800 - acc: 0.8108 - val_loss: 0.5916 - val_acc: 0.7429\n",
      "Epoch 3/10\n",
      "59/60 [============================>.] - ETA: 0s - loss: 0.6752 - acc: 0.7695Epoch 1/10\n",
      "60/60 [==============================] - 21s 348ms/step - loss: 0.6776 - acc: 0.7683 - val_loss: 0.4802 - val_acc: 0.8143\n",
      "Epoch 4/10\n",
      "59/60 [============================>.] - ETA: 0s - loss: 0.4821 - acc: 0.8467Epoch 1/10\n",
      "60/60 [==============================] - 21s 351ms/step - loss: 0.4757 - acc: 0.8493 - val_loss: 0.5068 - val_acc: 0.8143\n",
      "Epoch 5/10\n",
      "59/60 [============================>.] - ETA: 0s - loss: 0.6121 - acc: 0.7887Epoch 1/10\n",
      "60/60 [==============================] - 21s 345ms/step - loss: 0.6067 - acc: 0.7905 - val_loss: 0.5685 - val_acc: 0.8286\n",
      "Epoch 6/10\n",
      "59/60 [============================>.] - ETA: 0s - loss: 0.4577 - acc: 0.8230Epoch 1/10\n",
      "60/60 [==============================] - 21s 343ms/step - loss: 0.4549 - acc: 0.8243 - val_loss: 0.4571 - val_acc: 0.8429\n",
      "Epoch 7/10\n",
      "59/60 [============================>.] - ETA: 0s - loss: 0.5045 - acc: 0.8230Epoch 1/10\n",
      "60/60 [==============================] - 21s 357ms/step - loss: 0.5073 - acc: 0.8193 - val_loss: 0.5219 - val_acc: 0.8429\n",
      "Epoch 8/10\n",
      "59/60 [============================>.] - ETA: 0s - loss: 0.4491 - acc: 0.8402Epoch 1/10\n",
      "60/60 [==============================] - 21s 351ms/step - loss: 0.4572 - acc: 0.8412 - val_loss: 0.8783 - val_acc: 0.7143\n",
      "Epoch 9/10\n",
      "59/60 [============================>.] - ETA: 0s - loss: 0.5621 - acc: 0.7921Epoch 1/10\n",
      "60/60 [==============================] - 21s 351ms/step - loss: 0.5588 - acc: 0.7939 - val_loss: 0.4952 - val_acc: 0.8429\n",
      "Epoch 10/10\n",
      "59/60 [============================>.] - ETA: 0s - loss: 0.5703 - acc: 0.7852Epoch 1/10\n",
      "60/60 [==============================] - 20s 335ms/step - loss: 0.5637 - acc: 0.7889 - val_loss: 0.3091 - val_acc: 0.8714\n"
     ]
    }
   ],
   "source": [
    "callback = tf.keras.callbacks.ModelCheckpoint(\n",
    "    filepath='/tmp/checkpoint',\n",
    "    monitor='acc',\n",
    "    mode='max',\n",
    "    save_best_only=True)\n",
    "\n",
    "history = model.fit_generator(\n",
    "    train_generator,\n",
    "    steps_per_epoch= 602 // 10,\n",
    "    epochs= 20,\n",
    "    validation_data=validation_generator,\n",
    "    validation_steps= 71 // 10,\n",
    "    callbacks= [callback])"
   ]
  },
  {
   "cell_type": "code",
   "execution_count": 14,
   "metadata": {},
   "outputs": [],
   "source": [
    "#model.save('model_3june21_part1')"
   ]
  },
  {
   "cell_type": "code",
   "execution_count": 16,
   "metadata": {},
   "outputs": [
    {
     "data": {
      "text/plain": [
       "Text(0.5, 1.0, 'Training and validation loss')"
      ]
     },
     "execution_count": 16,
     "metadata": {},
     "output_type": "execute_result"
    },
    {
     "data": {
      "image/png": "[encoded data removed]",
      "text/plain": [
       "<Figure size 432x288 with 1 Axes>"
      ]
     },
     "metadata": {
      "needs_background": "light"
     },
     "output_type": "display_data"
    },
    {
     "data": {
      "image/png": "[encoded data removed]",
      "text/plain": [
       "<Figure size 432x288 with 1 Axes>"
      ]
     },
     "metadata": {
      "needs_background": "light"
     },
     "output_type": "display_data"
    }
   ],
   "source": [
    "# PLOT LOSS AND ACCURACY\n",
    "%matplotlib inline\n",
    "\n",
    "import matplotlib.image  as mpimg\n",
    "import matplotlib.pyplot as plt\n",
    "\n",
    "#-----------------------------------------------------------\n",
    "# Retrieve a list of list results on training and test data\n",
    "# sets for each training epoch\n",
    "#-----------------------------------------------------------\n",
    "acc=history.history['acc']\n",
    "val_acc=history.history['val_acc']\n",
    "loss=history.history['loss']\n",
    "val_loss=history.history['val_loss']\n",
    "\n",
    "epochs=range(len(acc)) # Get number of epochs\n",
    "\n",
    "#------------------------------------------------\n",
    "# Plot training and validation accuracy per epoch\n",
    "#------------------------------------------------\n",
    "plt.plot(epochs, acc, 'r', \"Training Accuracy\")\n",
    "plt.plot(epochs, val_acc, 'b', \"Validation Accuracy\")\n",
    "plt.title('Training and validation accuracy')\n",
    "plt.figure()\n",
    "\n",
    "#------------------------------------------------\n",
    "# Plot training and validation loss per epoch\n",
    "#------------------------------------------------\n",
    "plt.plot(epochs, loss, 'r', \"Training Loss\")\n",
    "plt.plot(epochs, val_loss, 'b', \"Validation Loss\")\n",
    "\n",
    "\n",
    "plt.title('Training and validation loss')\n",
    "\n",
    "# Desired output. Charts with training and validation metrics. No crash :)"
   ]
  }
 ],
 "metadata": {
  "kernelspec": {
   "display_name": "Python 3",
   "language": "python",
   "name": "python3"
  },
  "language_info": {
   "codemirror_mode": {
    "name": "ipython",
    "version": 3
   },
   "file_extension": ".py",
   "mimetype": "text/x-python",
   "name": "python",
   "nbconvert_exporter": "python",
   "pygments_lexer": "ipython3",
   "version": "3.7.6"
  }
 },
 "nbformat": 4,
 "nbformat_minor": 2
}
