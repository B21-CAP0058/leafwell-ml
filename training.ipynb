{
 "cells": [
  {
   "cell_type": "code",
   "execution_count": 1,
   "metadata": {},
   "outputs": [],
   "source": [
    "import os\n",
    "import zipfile\n",
    "import random\n",
    "import tensorflow as tf\n",
    "import shutil\n",
    "from tensorflow.keras.optimizers import RMSprop\n",
    "from tensorflow.keras.preprocessing.image import ImageDataGenerator\n",
    "from shutil import copyfile\n",
    "from os import getcwd"
   ]
  },
  {
   "cell_type": "code",
   "execution_count": 2,
   "metadata": {},
   "outputs": [
    {
     "data": {
      "text/plain": [
       "'C:\\\\Users\\\\ASUS\\\\Documents\\\\Lectures\\\\BANGKIT\\\\ml-bangjek\\\\The GIT\\\\leafwell-ml/Dataset Medicinal'"
      ]
     },
     "execution_count": 2,
     "metadata": {},
     "output_type": "execute_result"
    }
   ],
   "source": [
    "f\"{getcwd()}/Dataset Medicinal\""
   ]
  },
  {
   "cell_type": "code",
   "execution_count": 3,
   "metadata": {},
   "outputs": [],
   "source": [
    "#path_medicinal_leaf_data = f\"{getcwd()}/Dataset Medicinal/dataset_medicinal_leaf.zip\"\n",
    "path_medicinal_leaf_data = f\"{getcwd()}/Dataset Medicinal/leaf_dataset.zip\"\n",
    "\n",
    "local_zip = path_medicinal_leaf_data\n",
    "zip_ref = zipfile.ZipFile(local_zip, 'r')\n",
    "shutil.rmtree('/tmp')\n",
    "zip_ref.extractall('/tmp')\n",
    "zip_ref.close()"
   ]
  },
  {
   "cell_type": "code",
   "execution_count": 4,
   "metadata": {},
   "outputs": [
    {
     "data": {
      "text/plain": [
       "['Amaranthus Viridis (Arive-Dantu)',\n",
       " 'Basella Alba (Basale)',\n",
       " 'Ficus Auriculata (Roxburgh fig)',\n",
       " 'Moringa Oleifera (Drumstick)',\n",
       " 'Muntingia Calabura (Jamaica Cherry-Gasagase)',\n",
       " 'Murraya Koenigii (Curry)',\n",
       " 'Nyctanthes Arbor-tristis (Parijata)',\n",
       " 'Ocimum Tenuiflorum (Tulsi)',\n",
       " 'Piper Betle (Betel)',\n",
       " 'Psidium Guajava (Guava)']"
      ]
     },
     "execution_count": 4,
     "metadata": {},
     "output_type": "execute_result"
    }
   ],
   "source": [
    "#os.listdir('/tmp/Segmented Medicinal Leaf Images')\n",
    "os.listdir('/tmp/Segmented Medicinal Leaf Images')"
   ]
  },
  {
   "cell_type": "code",
   "execution_count": 5,
   "metadata": {},
   "outputs": [
    {
     "data": {
      "image/png": "[encoded data removed]",
      "text/plain": [
       "<Figure size 432x288 with 1 Axes>"
      ]
     },
     "metadata": {
      "needs_background": "light"
     },
     "output_type": "display_data"
    }
   ],
   "source": [
    "langs = []\n",
    "qty = []\n",
    "\n",
    "for x in os.listdir('/tmp/Segmented Medicinal Leaf Images'):\n",
    "    langs.append(x)\n",
    "    qty.append(len(os.listdir('/tmp/Segmented Medicinal Leaf Images/'+ x)))\n",
    "    \n",
    "import matplotlib.pyplot as plt\n",
    "fig = plt.figure()\n",
    "ax = fig.add_axes([0,0,1,1])\n",
    "langs = langs\n",
    "qty = qty\n",
    "ax.bar(langs,qty)\n",
    "plt.show()"
   ]
  },
  {
   "cell_type": "code",
   "execution_count": 6,
   "metadata": {},
   "outputs": [],
   "source": [
    "os.mkdir('/tmp/medicinal-leaf')\n",
    "os.mkdir('/tmp/medicinal-leaf/training')\n",
    "os.mkdir('/tmp/medicinal-leaf/testing')\n",
    "    \n",
    "for x in os.listdir('/tmp/Segmented Medicinal Leaf Images'):\n",
    "    os.mkdir('/tmp/medicinal-leaf/training/' + x)\n",
    "    os.mkdir('/tmp/medicinal-leaf/testing/' + x)"
   ]
  },
  {
   "cell_type": "code",
   "execution_count": 7,
   "metadata": {},
   "outputs": [],
   "source": [
    "def split_data(SOURCE, TRAINING, TESTING, SPLIT_SIZE):\n",
    "    files = list()\n",
    "    for fname in os.listdir(SOURCE):\n",
    "        f = SOURCE + fname\n",
    "        if os.path.getsize(f) > 0:\n",
    "            files.append(fname)\n",
    "\n",
    "    training_length = int(len(files) * SPLIT_SIZE)\n",
    "    testing_length = int(len(files) - training_length)\n",
    "    shuffled = random.sample(files, len(files))\n",
    "    training_set = shuffled[0:training_length]\n",
    "    testing_set = shuffled[:testing_length]\n",
    "\n",
    "    for fname in training_set:\n",
    "        tfile = SOURCE + fname\n",
    "        destin = TRAINING + fname\n",
    "        copyfile(tfile, destin)\n",
    "        \n",
    "    for fname in testing_set:\n",
    "        tfile = SOURCE + fname\n",
    "        destin = TESTING + fname\n",
    "        copyfile(tfile, destin)\n",
    "\n",
    "split_size = .9\n",
    "\n",
    "for x in os.listdir('/tmp/Segmented Medicinal Leaf Images'):\n",
    "    split_data('/tmp/Segmented Medicinal Leaf Images/'+ x + '/', '/tmp/medicinal-leaf/training/' + x + '/', '/tmp/medicinal-leaf/testing/' + x + '/', split_size)"
   ]
  },
  {
   "cell_type": "code",
   "execution_count": 8,
   "metadata": {},
   "outputs": [
    {
     "name": "stdout",
     "output_type": "stream",
     "text": [
      "name: Amaranthus Viridis (Arive-Dantu)\n",
      "train: 109\n",
      "test 13\n",
      "---------------------------------------------------------\n",
      "name: Basella Alba (Basale)\n",
      "train: 92\n",
      "test 11\n",
      "---------------------------------------------------------\n",
      "name: Ficus Auriculata (Roxburgh fig)\n",
      "train: 45\n",
      "test 5\n",
      "---------------------------------------------------------\n",
      "name: Moringa Oleifera (Drumstick)\n",
      "train: 69\n",
      "test 8\n",
      "---------------------------------------------------------\n",
      "name: Muntingia Calabura (Jamaica Cherry-Gasagase)\n",
      "train: 50\n",
      "test 6\n",
      "---------------------------------------------------------\n",
      "name: Murraya Koenigii (Curry)\n",
      "train: 54\n",
      "test 6\n",
      "---------------------------------------------------------\n",
      "name: Nyctanthes Arbor-tristis (Parijata)\n",
      "train: 36\n",
      "test 4\n",
      "---------------------------------------------------------\n",
      "name: Ocimum Tenuiflorum (Tulsi)\n",
      "train: 46\n",
      "test 6\n",
      "---------------------------------------------------------\n",
      "name: Piper Betle (Betel)\n",
      "train: 43\n",
      "test 5\n",
      "---------------------------------------------------------\n",
      "name: Psidium Guajava (Guava)\n",
      "train: 58\n",
      "test 7\n",
      "---------------------------------------------------------\n"
     ]
    }
   ],
   "source": [
    "for x in os.listdir('/tmp/Segmented Medicinal Leaf Images'):\n",
    "    print('name:', x)\n",
    "    print('train:', len(os.listdir('/tmp/medicinal-leaf/training/'+ x + '/')))\n",
    "    print('test', len(os.listdir('/tmp/medicinal-leaf/testing/'+ x + '/')))\n",
    "    print('---------------------------------------------------------')"
   ]
  },
  {
   "cell_type": "code",
   "execution_count": 9,
   "metadata": {},
   "outputs": [
    {
     "name": "stdout",
     "output_type": "stream",
     "text": [
      "WARNING:tensorflow:From C:\\Users\\ASUS\\Anaconda3\\envs\\tensorflow\\lib\\site-packages\\tensorflow_core\\python\\ops\\resource_variable_ops.py:1630: calling BaseResourceVariable.__init__ (from tensorflow.python.ops.resource_variable_ops) with constraint is deprecated and will be removed in a future version.\n",
      "Instructions for updating:\n",
      "If using Keras pass *_constraint arguments to layers.\n",
      "Model: \"sequential\"\n",
      "_________________________________________________________________\n",
      "Layer (type)                 Output Shape              Param #   \n",
      "=================================================================\n",
      "conv2d (Conv2D)              (None, 148, 148, 16)      448       \n",
      "_________________________________________________________________\n",
      "max_pooling2d (MaxPooling2D) (None, 74, 74, 16)        0         \n",
      "_________________________________________________________________\n",
      "conv2d_1 (Conv2D)            (None, 72, 72, 32)        4640      \n",
      "_________________________________________________________________\n",
      "max_pooling2d_1 (MaxPooling2 (None, 36, 36, 32)        0         \n",
      "_________________________________________________________________\n",
      "conv2d_2 (Conv2D)            (None, 34, 34, 64)        18496     \n",
      "_________________________________________________________________\n",
      "max_pooling2d_2 (MaxPooling2 (None, 17, 17, 64)        0         \n",
      "_________________________________________________________________\n",
      "flatten (Flatten)            (None, 18496)             0         \n",
      "_________________________________________________________________\n",
      "dense (Dense)                (None, 512)               9470464   \n",
      "_________________________________________________________________\n",
      "dense_1 (Dense)              (None, 10)                5130      \n",
      "=================================================================\n",
      "Total params: 9,499,178\n",
      "Trainable params: 9,499,178\n",
      "Non-trainable params: 0\n",
      "_________________________________________________________________\n"
     ]
    }
   ],
   "source": [
    "# DEFINE A KERAS MODEL TO CLASSIFY\n",
    "model = tf.keras.models.Sequential([\n",
    "    tf.keras.layers.Conv2D(16, (3,3), activation='relu', input_shape=(150,150, 3)),\n",
    "    tf.keras.layers.MaxPooling2D(2,2),\n",
    "    tf.keras.layers.Conv2D(32, (3,3), activation='relu'),\n",
    "    tf.keras.layers.MaxPooling2D(2,2),\n",
    "    tf.keras.layers.Conv2D(64, (3,3), activation='relu'),\n",
    "    tf.keras.layers.MaxPooling2D(2,2),\n",
    "    tf.keras.layers.Flatten(),\n",
    "    tf.keras.layers.Dense(units= 512, activation='relu'),\n",
    "    tf.keras.layers.Dense(units= 10, activation='softmax')\n",
    "])\n",
    "\n",
    "model.compile(optimizer='adam', loss='categorical_crossentropy', metrics=['accuracy'])\n",
    "model.summary()"
   ]
  },
  {
   "cell_type": "code",
   "execution_count": 10,
   "metadata": {},
   "outputs": [
    {
     "name": "stdout",
     "output_type": "stream",
     "text": [
      "Found 602 images belonging to 10 classes.\n",
      "Found 71 images belonging to 10 classes.\n"
     ]
    }
   ],
   "source": [
    "TRAINING_DIR = '/tmp/medicinal-leaf/training'\n",
    "train_datagen = ImageDataGenerator(\n",
    "    rescale = 1/255,\n",
    "    rotation_range = 40,\n",
    "    width_shift_range = 0.2,\n",
    "    height_shift_range = 0.2,\n",
    "    shear_range = 0.2,\n",
    "    zoom_range = 0.2,\n",
    "    horizontal_flip = True,\n",
    "    fill_mode = 'nearest'\n",
    ")\n",
    "\n",
    "# TRAIN GENERATOR.\n",
    "train_generator = train_datagen.flow_from_directory(\n",
    "    TRAINING_DIR,\n",
    "    batch_size = 10,\n",
    "    target_size = (150,150),\n",
    "    class_mode = 'categorical' \n",
    ")\n",
    "\n",
    "VALIDATION_DIR = '/tmp/medicinal-leaf/testing'\n",
    "validation_datagen = ImageDataGenerator(\n",
    "    rescale = 1/255,\n",
    "    rotation_range = 40,\n",
    "    width_shift_range = 0.2,\n",
    "    height_shift_range = 0.2,\n",
    "    shear_range = 0.2,\n",
    "    zoom_range = 0.2,\n",
    "    horizontal_flip = True,\n",
    "    fill_mode = 'nearest'\n",
    ")\n",
    "\n",
    "# VALIDATION GENERATOR.\n",
    "validation_generator = validation_datagen.flow_from_directory(\n",
    "    VALIDATION_DIR,\n",
    "    batch_size = 10,\n",
    "    target_size = (150,150),\n",
    "    class_mode = 'categorical' \n",
    ")"
   ]
  },
  {
   "cell_type": "code",
   "execution_count": 17,
   "metadata": {},
   "outputs": [
    {
     "name": "stdout",
     "output_type": "stream",
     "text": [
      "Epoch 1/20\n",
      "59/60 [============================>.] - ETA: 0s - loss: 0.4200 - acc: 0.8436Epoch 1/20\n",
      "60/60 [==============================] - 22s 363ms/step - loss: 0.4219 - acc: 0.8429 - val_loss: 0.3663 - val_acc: 0.9000\n",
      "Epoch 2/20\n",
      "59/60 [============================>.] - ETA: 0s - loss: 0.4391 - acc: 0.8402Epoch 1/20\n",
      "60/60 [==============================] - 21s 349ms/step - loss: 0.4395 - acc: 0.8412 - val_loss: 0.5421 - val_acc: 0.8143\n",
      "Epoch 3/20\n",
      "59/60 [============================>.] - ETA: 0s - loss: 0.4476 - acc: 0.8299Epoch 1/20\n",
      "60/60 [==============================] - 21s 357ms/step - loss: 0.4449 - acc: 0.8311 - val_loss: 0.5425 - val_acc: 0.8571\n",
      "Epoch 4/20\n",
      "59/60 [============================>.] - ETA: 0s - loss: 0.3541 - acc: 0.8694Epoch 1/20\n",
      "60/60 [==============================] - 21s 353ms/step - loss: 0.3571 - acc: 0.8682 - val_loss: 0.4367 - val_acc: 0.8143\n",
      "Epoch 5/20\n",
      "59/60 [============================>.] - ETA: 0s - loss: 0.4329 - acc: 0.8557Epoch 1/20\n",
      "60/60 [==============================] - 21s 350ms/step - loss: 0.4335 - acc: 0.8564 - val_loss: 0.2891 - val_acc: 0.9143\n",
      "Epoch 6/20\n",
      "59/60 [============================>.] - ETA: 0s - loss: 0.3224 - acc: 0.8935Epoch 1/20\n",
      "60/60 [==============================] - 21s 355ms/step - loss: 0.3229 - acc: 0.8919 - val_loss: 0.2628 - val_acc: 0.9143\n",
      "Epoch 7/20\n",
      "59/60 [============================>.] - ETA: 0s - loss: 0.3769 - acc: 0.8729Epoch 1/20\n",
      "60/60 [==============================] - 21s 346ms/step - loss: 0.3749 - acc: 0.8733 - val_loss: 0.2912 - val_acc: 0.9000\n",
      "Epoch 8/20\n",
      "59/60 [============================>.] - ETA: 0s - loss: 0.3693 - acc: 0.8660Epoch 1/20\n",
      "60/60 [==============================] - 20s 340ms/step - loss: 0.3705 - acc: 0.8666 - val_loss: 0.2147 - val_acc: 0.9286\n",
      "Epoch 9/20\n",
      "59/60 [============================>.] - ETA: 0s - loss: 0.3427 - acc: 0.8729Epoch 1/20\n",
      "60/60 [==============================] - 21s 355ms/step - loss: 0.3460 - acc: 0.8716 - val_loss: 0.4345 - val_acc: 0.8571\n",
      "Epoch 10/20\n",
      "59/60 [============================>.] - ETA: 0s - loss: 0.3856 - acc: 0.8608Epoch 1/20\n",
      "60/60 [==============================] - 21s 344ms/step - loss: 0.3845 - acc: 0.8615 - val_loss: 0.3643 - val_acc: 0.8714\n",
      "Epoch 11/20\n",
      "59/60 [============================>.] - ETA: 0s - loss: 0.3171 - acc: 0.8797Epoch 1/20\n",
      "60/60 [==============================] - 20s 341ms/step - loss: 0.3148 - acc: 0.8801 - val_loss: 0.1858 - val_acc: 0.9286\n",
      "Epoch 12/20\n",
      "59/60 [============================>.] - ETA: 0s - loss: 0.3791 - acc: 0.8593Epoch 1/20\n",
      "60/60 [==============================] - 21s 344ms/step - loss: 0.3811 - acc: 0.8583 - val_loss: 0.2315 - val_acc: 0.9286\n",
      "Epoch 13/20\n",
      "59/60 [============================>.] - ETA: 0s - loss: 0.2805 - acc: 0.9059Epoch 1/20\n",
      "60/60 [==============================] - 21s 343ms/step - loss: 0.2864 - acc: 0.9041 - val_loss: 0.3273 - val_acc: 0.8857\n",
      "Epoch 14/20\n",
      "59/60 [============================>.] - ETA: 0s - loss: 0.3311 - acc: 0.8729Epoch 1/20\n",
      "60/60 [==============================] - 21s 343ms/step - loss: 0.3275 - acc: 0.8750 - val_loss: 0.3108 - val_acc: 0.9000\n",
      "Epoch 15/20\n",
      "59/60 [============================>.] - ETA: 0s - loss: 0.3290 - acc: 0.8885Epoch 1/20\n",
      "60/60 [==============================] - 20s 341ms/step - loss: 0.3262 - acc: 0.8887 - val_loss: 0.2439 - val_acc: 0.9000\n",
      "Epoch 16/20\n",
      "59/60 [============================>.] - ETA: 0s - loss: 0.2576 - acc: 0.9158Epoch 1/20\n",
      "60/60 [==============================] - 21s 351ms/step - loss: 0.2588 - acc: 0.9139 - val_loss: 0.2893 - val_acc: 0.8714\n",
      "Epoch 17/20\n",
      "59/60 [============================>.] - ETA: 0s - loss: 0.3291 - acc: 0.8883Epoch 1/20\n",
      "60/60 [==============================] - 20s 334ms/step - loss: 0.3280 - acc: 0.8885 - val_loss: 0.3083 - val_acc: 0.9143\n",
      "Epoch 18/20\n",
      "59/60 [============================>.] - ETA: 0s - loss: 0.2466 - acc: 0.9085Epoch 1/20\n",
      "60/60 [==============================] - 21s 344ms/step - loss: 0.2433 - acc: 0.9088 - val_loss: 0.1907 - val_acc: 0.9000\n",
      "Epoch 19/20\n",
      "59/60 [============================>.] - ETA: 0s - loss: 0.2843 - acc: 0.8949Epoch 1/20\n",
      "60/60 [==============================] - 20s 337ms/step - loss: 0.2841 - acc: 0.8950 - val_loss: 0.1614 - val_acc: 0.9714\n",
      "Epoch 20/20\n",
      "59/60 [============================>.] - ETA: 0s - loss: 0.2953 - acc: 0.9055Epoch 1/20\n",
      "60/60 [==============================] - 20s 338ms/step - loss: 0.2920 - acc: 0.9071 - val_loss: 0.1532 - val_acc: 0.9714\n"
     ]
    }
   ],
   "source": [
    "callback = tf.keras.callbacks.ModelCheckpoint(\n",
    "    filepath='/tmp/checkpoint',\n",
    "    monitor='acc',\n",
    "    mode='max',\n",
    "    save_best_only=True)\n",
    "\n",
    "history = model.fit_generator(\n",
    "    train_generator,\n",
    "    steps_per_epoch= 602 // 10,\n",
    "    epochs= 20,\n",
    "    validation_data=validation_generator,\n",
    "    validation_steps= 71 // 10,\n",
    "    callbacks= [callback])"
   ]
  },
  {
   "cell_type": "code",
   "execution_count": 14,
   "metadata": {},
   "outputs": [],
   "source": [
    "#model.save('model_3june21_part1')"
   ]
  },
  {
   "cell_type": "code",
   "execution_count": 18,
   "metadata": {},
   "outputs": [
    {
     "data": {
      "text/plain": [
       "Text(0.5, 1.0, 'Training and validation loss')"
      ]
     },
     "execution_count": 18,
     "metadata": {},
     "output_type": "execute_result"
    },
    {
     "data": {
      "image/png": "[encoded data removed]",
      "text/plain": [
       "<Figure size 432x288 with 1 Axes>"
      ]
     },
     "metadata": {
      "needs_background": "light"
     },
     "output_type": "display_data"
    },
    {
     "data": {
      "image/png": "[encoded data removed]",
      "text/plain": [
       "<Figure size 432x288 with 1 Axes>"
      ]
     },
     "metadata": {
      "needs_background": "light"
     },
     "output_type": "display_data"
    }
   ],
   "source": [
    "# PLOT LOSS AND ACCURACY\n",
    "%matplotlib inline\n",
    "\n",
    "import matplotlib.image  as mpimg\n",
    "import matplotlib.pyplot as plt\n",
    "\n",
    "#-----------------------------------------------------------\n",
    "# Retrieve a list of list results on training and test data\n",
    "# sets for each training epoch\n",
    "#-----------------------------------------------------------\n",
    "acc=history.history['acc']\n",
    "val_acc=history.history['val_acc']\n",
    "loss=history.history['loss']\n",
    "val_loss=history.history['val_loss']\n",
    "\n",
    "epochs=range(len(acc)) # Get number of epochs\n",
    "\n",
    "#------------------------------------------------\n",
    "# Plot training and validation accuracy per epoch\n",
    "#------------------------------------------------\n",
    "plt.plot(epochs, acc, 'r', \"Training Accuracy\")\n",
    "plt.plot(epochs, val_acc, 'b', \"Validation Accuracy\")\n",
    "plt.title('Training and validation accuracy')\n",
    "plt.figure()\n",
    "\n",
    "#------------------------------------------------\n",
    "# Plot training and validation loss per epoch\n",
    "#------------------------------------------------\n",
    "plt.plot(epochs, loss, 'r', \"Training Loss\")\n",
    "plt.plot(epochs, val_loss, 'b', \"Validation Loss\")\n",
    "\n",
    "\n",
    "plt.title('Training and validation loss')\n",
    "\n",
    "# Desired output. Charts with training and validation metrics. No crash :)"
   ]
  }
 ],
 "metadata": {
  "kernelspec": {
   "display_name": "Python 3",
   "language": "python",
   "name": "python3"
  },
  "language_info": {
   "codemirror_mode": {
    "name": "ipython",
    "version": 3
   },
   "file_extension": ".py",
   "mimetype": "text/x-python",
   "name": "python",
   "nbconvert_exporter": "python",
   "pygments_lexer": "ipython3",
   "version": "3.7.6"
  }
 },
 "nbformat": 4,
 "nbformat_minor": 2
}
