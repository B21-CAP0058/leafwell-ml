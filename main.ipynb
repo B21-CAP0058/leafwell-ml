{
 "cells": [
  {
   "cell_type": "code",
   "execution_count": 1,
   "metadata": {},
   "outputs": [],
   "source": [
    "# ATTENTION: Please do not alter any of the provided code in the exercise. Only add your own code where indicated\n",
    "# ATTENTION: Please do not add or remove any cells in the exercise. The grader will check specific cells based on the cell position.\n",
    "# ATTENTION: Please use the provided epoch values when training.\n",
    "\n",
    "# In this exercise you will train a CNN on the FULL Cats-v-dogs dataset\n",
    "# This will require you doing a lot of data preprocessing because\n",
    "# the dataset isn't split into training and validation for you\n",
    "# This code block has all the required inputs\n",
    "import os\n",
    "import zipfile\n",
    "import random\n",
    "import tensorflow as tf\n",
    "import shutil\n",
    "from tensorflow.keras.optimizers import RMSprop\n",
    "from tensorflow.keras.preprocessing.image import ImageDataGenerator\n",
    "from sklearn.preprocessing import MultiLabelBinarizer\n",
    "from shutil import copyfile\n",
    "from os import getcwd"
   ]
  },
  {
   "cell_type": "code",
   "execution_count": 2,
   "metadata": {},
   "outputs": [
    {
     "data": {
      "text/plain": [
       "'C:\\\\Users\\\\ASUS\\\\Documents\\\\Lectures\\\\BANGKIT\\\\BANGJEK/Dataset Medicinal'"
      ]
     },
     "execution_count": 2,
     "metadata": {},
     "output_type": "execute_result"
    }
   ],
   "source": [
    "f\"{getcwd()}/Dataset Medicinal\""
   ]
  },
  {
   "cell_type": "code",
   "execution_count": 3,
   "metadata": {},
   "outputs": [],
   "source": [
    "path_medicinal_leaf_data = f\"{getcwd()}/Dataset Medicinal/dataset_medicinal_leaf.zip\"\n",
    "\n",
    "local_zip = path_medicinal_leaf_data\n",
    "zip_ref = zipfile.ZipFile(local_zip, 'r')\n",
    "shutil.rmtree('/tmp')\n",
    "zip_ref.extractall('/tmp')\n",
    "zip_ref.close()"
   ]
  },
  {
   "cell_type": "code",
   "execution_count": 4,
   "metadata": {},
   "outputs": [
    {
     "data": {
      "text/plain": [
       "['Alpinia Galanga (Rasna)',\n",
       " 'Amaranthus Viridis (Arive-Dantu)',\n",
       " 'Artocarpus Heterophyllus (Jackfruit)',\n",
       " 'Azadirachta Indica (Neem)',\n",
       " 'Basella Alba (Basale)',\n",
       " 'Brassica Juncea (Indian Mustard)',\n",
       " 'Carissa Carandas (Karanda)',\n",
       " 'Citrus Limon (Lemon)',\n",
       " 'Ficus Auriculata (Roxburgh fig)',\n",
       " 'Ficus Religiosa (Peepal Tree)',\n",
       " 'Hibiscus Rosa-sinensis',\n",
       " 'Jasminum (Jasmine)',\n",
       " 'Mangifera Indica (Mango)',\n",
       " 'Mentha (Mint)',\n",
       " 'Moringa Oleifera (Drumstick)',\n",
       " 'Muntingia Calabura (Jamaica Cherry-Gasagase)',\n",
       " 'Murraya Koenigii (Curry)',\n",
       " 'Nerium Oleander (Oleander)',\n",
       " 'Nyctanthes Arbor-tristis (Parijata)',\n",
       " 'Ocimum Tenuiflorum (Tulsi)',\n",
       " 'Piper Betle (Betel)',\n",
       " 'Plectranthus Amboinicus (Mexican Mint)',\n",
       " 'Pongamia Pinnata (Indian Beech)',\n",
       " 'Psidium Guajava (Guava)',\n",
       " 'Punica Granatum (Pomegranate)',\n",
       " 'Santalum Album (Sandalwood)',\n",
       " 'Syzygium Cumini (Jamun)',\n",
       " 'Syzygium Jambos (Rose Apple)',\n",
       " 'Tabernaemontana Divaricata (Crape Jasmine)',\n",
       " 'Trigonella Foenum-graecum (Fenugreek)']"
      ]
     },
     "execution_count": 4,
     "metadata": {},
     "output_type": "execute_result"
    }
   ],
   "source": [
    "os.listdir('/tmp/Segmented Medicinal Leaf Images')"
   ]
  },
  {
   "cell_type": "code",
   "execution_count": 5,
   "metadata": {},
   "outputs": [
    {
     "name": "stdout",
     "output_type": "stream",
     "text": [
      "Alpinia Galanga (Rasna) 50\n",
      "Amaranthus Viridis (Arive-Dantu) 122\n",
      "Artocarpus Heterophyllus (Jackfruit) 56\n",
      "Azadirachta Indica (Neem) 60\n",
      "Basella Alba (Basale) 103\n",
      "Brassica Juncea (Indian Mustard) 34\n",
      "Carissa Carandas (Karanda) 74\n",
      "Citrus Limon (Lemon) 57\n",
      "Ficus Auriculata (Roxburgh fig) 50\n",
      "Ficus Religiosa (Peepal Tree) 63\n",
      "Hibiscus Rosa-sinensis 43\n",
      "Jasminum (Jasmine) 71\n",
      "Mangifera Indica (Mango) 62\n",
      "Mentha (Mint) 97\n",
      "Moringa Oleifera (Drumstick) 77\n",
      "Muntingia Calabura (Jamaica Cherry-Gasagase) 56\n",
      "Murraya Koenigii (Curry) 60\n",
      "Nerium Oleander (Oleander) 62\n",
      "Nyctanthes Arbor-tristis (Parijata) 40\n",
      "Ocimum Tenuiflorum (Tulsi) 52\n",
      "Piper Betle (Betel) 48\n",
      "Plectranthus Amboinicus (Mexican Mint) 48\n",
      "Pongamia Pinnata (Indian Beech) 61\n",
      "Psidium Guajava (Guava) 65\n",
      "Punica Granatum (Pomegranate) 79\n",
      "Santalum Album (Sandalwood) 58\n",
      "Syzygium Cumini (Jamun) 39\n",
      "Syzygium Jambos (Rose Apple) 56\n",
      "Tabernaemontana Divaricata (Crape Jasmine) 56\n",
      "Trigonella Foenum-graecum (Fenugreek) 36\n"
     ]
    }
   ],
   "source": [
    "for x in os.listdir('/tmp/Segmented Medicinal Leaf Images'):\n",
    "    print(x, len(os.listdir('/tmp/Segmented Medicinal Leaf Images/'+ x)))"
   ]
  },
  {
   "cell_type": "code",
   "execution_count": 6,
   "metadata": {},
   "outputs": [],
   "source": [
    "os.mkdir('/tmp/medicinal-leaf')\n",
    "os.mkdir('/tmp/medicinal-leaf/training')\n",
    "os.mkdir('/tmp/medicinal-leaf/testing')\n",
    "    \n",
    "for x in os.listdir('/tmp/Segmented Medicinal Leaf Images'):\n",
    "    os.mkdir('/tmp/medicinal-leaf/training/' + x)\n",
    "    os.mkdir('/tmp/medicinal-leaf/testing/' + x)"
   ]
  },
  {
   "cell_type": "code",
   "execution_count": 7,
   "metadata": {},
   "outputs": [],
   "source": [
    "# Write a python function called split_data which takes\n",
    "# a SOURCE directory containing the files\n",
    "# a TRAINING directory that a portion of the files will be copied to\n",
    "# a TESTING directory that a portion of the files will be copie to\n",
    "# a SPLIT SIZE to determine the portion\n",
    "# The files should also be randomized, so that the training set is a random\n",
    "# X% of the files, and the test set is the remaining files\n",
    "# SO, for example, if SOURCE is PetImages/Cat, and SPLIT SIZE is .9\n",
    "# Then 90% of the images in PetImages/Cat will be copied to the TRAINING dir\n",
    "# and 10% of the images will be copied to the TESTING dir\n",
    "# Also -- All images should be checked, and if they have a zero file length,\n",
    "# they will not be copied over\n",
    "#\n",
    "# os.listdir(DIRECTORY) gives you a listing of the contents of that directory\n",
    "# os.path.getsize(PATH) gives you the size of the file\n",
    "# copyfile(source, destination) copies a file from source to destination\n",
    "# random.sample(list, len(list)) shuffles a list\n",
    "def split_data(SOURCE, TRAINING, TESTING, SPLIT_SIZE):\n",
    "    files = list()\n",
    "    for fname in os.listdir(SOURCE):\n",
    "        f = SOURCE + fname\n",
    "        if os.path.getsize(f) > 0:\n",
    "            files.append(fname)\n",
    "\n",
    "    training_length = int(len(files) * SPLIT_SIZE)\n",
    "    testing_length = int(len(files) - training_length)\n",
    "    shuffled = random.sample(files, len(files))\n",
    "    training_set = shuffled[0:training_length]\n",
    "    testing_set = shuffled[:testing_length]\n",
    "\n",
    "    for fname in training_set:\n",
    "        tfile = SOURCE + fname\n",
    "        destin = TRAINING + fname\n",
    "        copyfile(tfile, destin)\n",
    "        \n",
    "    for fname in testing_set:\n",
    "        tfile = SOURCE + fname\n",
    "        destin = TESTING + fname\n",
    "        copyfile(tfile, destin)\n",
    "\n",
    "split_size = .9\n",
    "\n",
    "for x in os.listdir('/tmp/Segmented Medicinal Leaf Images'):\n",
    "    split_data('/tmp/Segmented Medicinal Leaf Images/'+ x + '/', '/tmp/medicinal-leaf/training/' + x + '/', '/tmp/medicinal-leaf/testing/' + x + '/', split_size)"
   ]
  },
  {
   "cell_type": "code",
   "execution_count": 50,
   "metadata": {},
   "outputs": [
    {
     "name": "stdout",
     "output_type": "stream",
     "text": [
      "name: Alpinia Galanga (Rasna)\n",
      "train: 45\n",
      "test 5\n",
      "---------------------------------------------------------\n",
      "name: Amaranthus Viridis (Arive-Dantu)\n",
      "train: 109\n",
      "test 13\n",
      "---------------------------------------------------------\n",
      "name: Artocarpus Heterophyllus (Jackfruit)\n",
      "train: 50\n",
      "test 6\n",
      "---------------------------------------------------------\n",
      "name: Azadirachta Indica (Neem)\n",
      "train: 54\n",
      "test 6\n",
      "---------------------------------------------------------\n",
      "name: Basella Alba (Basale)\n",
      "train: 92\n",
      "test 11\n",
      "---------------------------------------------------------\n",
      "name: Brassica Juncea (Indian Mustard)\n",
      "train: 30\n",
      "test 4\n",
      "---------------------------------------------------------\n",
      "name: Carissa Carandas (Karanda)\n",
      "train: 66\n",
      "test 8\n",
      "---------------------------------------------------------\n",
      "name: Citrus Limon (Lemon)\n",
      "train: 51\n",
      "test 6\n",
      "---------------------------------------------------------\n",
      "name: Ficus Auriculata (Roxburgh fig)\n",
      "train: 45\n",
      "test 5\n",
      "---------------------------------------------------------\n",
      "name: Ficus Religiosa (Peepal Tree)\n",
      "train: 56\n",
      "test 7\n",
      "---------------------------------------------------------\n",
      "name: Hibiscus Rosa-sinensis\n",
      "train: 38\n",
      "test 5\n",
      "---------------------------------------------------------\n",
      "name: Jasminum (Jasmine)\n",
      "train: 63\n",
      "test 8\n",
      "---------------------------------------------------------\n",
      "name: Mangifera Indica (Mango)\n",
      "train: 55\n",
      "test 7\n",
      "---------------------------------------------------------\n",
      "name: Mentha (Mint)\n",
      "train: 87\n",
      "test 10\n",
      "---------------------------------------------------------\n",
      "name: Moringa Oleifera (Drumstick)\n",
      "train: 69\n",
      "test 8\n",
      "---------------------------------------------------------\n",
      "name: Muntingia Calabura (Jamaica Cherry-Gasagase)\n",
      "train: 50\n",
      "test 6\n",
      "---------------------------------------------------------\n",
      "name: Murraya Koenigii (Curry)\n",
      "train: 54\n",
      "test 6\n",
      "---------------------------------------------------------\n",
      "name: Nerium Oleander (Oleander)\n",
      "train: 55\n",
      "test 7\n",
      "---------------------------------------------------------\n",
      "name: Nyctanthes Arbor-tristis (Parijata)\n",
      "train: 36\n",
      "test 4\n",
      "---------------------------------------------------------\n",
      "name: Ocimum Tenuiflorum (Tulsi)\n",
      "train: 46\n",
      "test 6\n",
      "---------------------------------------------------------\n",
      "name: Piper Betle (Betel)\n",
      "train: 43\n",
      "test 5\n",
      "---------------------------------------------------------\n",
      "name: Plectranthus Amboinicus (Mexican Mint)\n",
      "train: 43\n",
      "test 5\n",
      "---------------------------------------------------------\n",
      "name: Pongamia Pinnata (Indian Beech)\n",
      "train: 54\n",
      "test 7\n",
      "---------------------------------------------------------\n",
      "name: Psidium Guajava (Guava)\n",
      "train: 58\n",
      "test 7\n",
      "---------------------------------------------------------\n",
      "name: Punica Granatum (Pomegranate)\n",
      "train: 71\n",
      "test 8\n",
      "---------------------------------------------------------\n",
      "name: Santalum Album (Sandalwood)\n",
      "train: 52\n",
      "test 6\n",
      "---------------------------------------------------------\n",
      "name: Syzygium Cumini (Jamun)\n",
      "train: 35\n",
      "test 4\n",
      "---------------------------------------------------------\n",
      "name: Syzygium Jambos (Rose Apple)\n",
      "train: 50\n",
      "test 6\n",
      "---------------------------------------------------------\n",
      "name: Tabernaemontana Divaricata (Crape Jasmine)\n",
      "train: 50\n",
      "test 6\n",
      "---------------------------------------------------------\n",
      "name: Trigonella Foenum-graecum (Fenugreek)\n",
      "train: 32\n",
      "test 4\n",
      "---------------------------------------------------------\n"
     ]
    }
   ],
   "source": [
    "#print(len(os.listdir('/tmp/cats-v-dogs/training/cats/')))\n",
    "#print(len(os.listdir('/tmp/cats-v-dogs/training/dogs/')))\n",
    "#print(len(os.listdir('/tmp/cats-v-dogs/testing/cats/')))\n",
    "#print(len(os.listdir('/tmp/cats-v-dogs/testing/dogs/')))\n",
    "\n",
    "for x in os.listdir('/tmp/Segmented Medicinal Leaf Images'):\n",
    "    print('name:', x)\n",
    "    print('train:', len(os.listdir('/tmp/medicinal-leaf/training/'+ x + '/')))\n",
    "    print('test', len(os.listdir('/tmp/medicinal-leaf/testing/'+ x + '/')))\n",
    "    print('---------------------------------------------------------')"
   ]
  },
  {
   "cell_type": "code",
   "execution_count": 13,
   "metadata": {},
   "outputs": [],
   "source": [
    "# DEFINE A KERAS MODEL TO CLASSIFY CATS V DOGS\n",
    "# USE AT LEAST 3 CONVOLUTION LAYERS\n",
    "model = tf.keras.models.Sequential([\n",
    "    tf.keras.layers.Conv2D(16, (3,3), activation='relu', input_shape=(150,150, 3)),\n",
    "    tf.keras.layers.MaxPooling2D(2,2),\n",
    "    tf.keras.layers.Conv2D(32, (3,3), activation='relu'),\n",
    "    tf.keras.layers.MaxPooling2D(2,2),\n",
    "    tf.keras.layers.Conv2D(64, (3,3), activation='relu'),\n",
    "    tf.keras.layers.MaxPooling2D(2,2),\n",
    "    tf.keras.layers.Flatten(),\n",
    "    tf.keras.layers.Dense(512, activation='relu'),\n",
    "    tf.keras.layers.Dense(30, activation='softmax')\n",
    "])\n",
    "\n",
    "model.compile(optimizer='rmsprop', loss='categorical_crossentropy', metrics=['acc'])"
   ]
  },
  {
   "cell_type": "code",
   "execution_count": 18,
   "metadata": {},
   "outputs": [
    {
     "name": "stdout",
     "output_type": "stream",
     "text": [
      "Found 1639 images belonging to 30 classes.\n",
      "Found 196 images belonging to 30 classes.\n"
     ]
    }
   ],
   "source": [
    "TRAINING_DIR = '/tmp/medicinal-leaf/training'\n",
    "train_datagen = ImageDataGenerator(\n",
    "    rescale = 1/255,\n",
    "    rotation_range = 40,\n",
    "    width_shift_range = 0.2,\n",
    "    height_shift_range = 0.2,\n",
    "    shear_range = 0.2,\n",
    "    zoom_range = 0.2,\n",
    "    horizontal_flip = True,\n",
    "    fill_mode = 'nearest'\n",
    ")\n",
    "\n",
    "# NOTE: YOU MUST USE A BATCH SIZE OF 10 (batch_size=10) FOR THE \n",
    "# TRAIN GENERATOR.\n",
    "train_generator = train_datagen.flow_from_directory(\n",
    "    TRAINING_DIR,\n",
    "    #batch_size = 10,\n",
    "    target_size = (150,150),\n",
    "    class_mode = 'categorical' \n",
    ")\n",
    "\n",
    "VALIDATION_DIR = '/tmp/medicinal-leaf/testing'\n",
    "validation_datagen = ImageDataGenerator(\n",
    "    rescale = 1/255,\n",
    "    rotation_range = 40,\n",
    "    width_shift_range = 0.2,\n",
    "    height_shift_range = 0.2,\n",
    "    shear_range = 0.2,\n",
    "    zoom_range = 0.2,\n",
    "    horizontal_flip = True,\n",
    "    fill_mode = 'nearest'\n",
    ")\n",
    "\n",
    "# NOTE: YOU MUST USE A BACTH SIZE OF 10 (batch_size=10) FOR THE \n",
    "# VALIDATION GENERATOR.\n",
    "validation_generator = validation_datagen.flow_from_directory(\n",
    "    VALIDATION_DIR,\n",
    "    #batch_size = 10,\n",
    "    target_size = (150,150),\n",
    "    class_mode = 'categorical' \n",
    ")"
   ]
  },
  {
   "cell_type": "code",
   "execution_count": 21,
   "metadata": {},
   "outputs": [
    {
     "name": "stdout",
     "output_type": "stream",
     "text": [
      "Epoch 1/10\n",
      "51/52 [============================>.] - ETA: 1s - loss: 0.9870 - acc: 0.6932Epoch 1/10\n",
      "52/52 [==============================] - 63s 1s/step - loss: 0.9857 - acc: 0.6943 - val_loss: 1.1138 - val_acc: 0.6684\n",
      "Epoch 2/10\n",
      "51/52 [============================>.] - ETA: 1s - loss: 0.9413 - acc: 0.7106Epoch 1/10\n",
      "52/52 [==============================] - 60s 1s/step - loss: 0.9396 - acc: 0.7102 - val_loss: 0.8450 - val_acc: 0.7296\n",
      "Epoch 3/10\n",
      "51/52 [============================>.] - ETA: 0s - loss: 0.9238 - acc: 0.7026Epoch 1/10\n",
      "52/52 [==============================] - 55s 1s/step - loss: 0.9173 - acc: 0.7053 - val_loss: 0.8093 - val_acc: 0.7500\n",
      "Epoch 4/10\n",
      "51/52 [============================>.] - ETA: 0s - loss: 0.8383 - acc: 0.7262Epoch 1/10\n",
      "52/52 [==============================] - 55s 1s/step - loss: 0.8482 - acc: 0.7248 - val_loss: 0.6560 - val_acc: 0.7602\n",
      "Epoch 5/10\n",
      "51/52 [============================>.] - ETA: 0s - loss: 0.8321 - acc: 0.7337Epoch 1/10\n",
      "52/52 [==============================] - 55s 1s/step - loss: 0.8339 - acc: 0.7328 - val_loss: 0.7548 - val_acc: 0.7602\n",
      "Epoch 6/10\n",
      "51/52 [============================>.] - ETA: 0s - loss: 0.8026 - acc: 0.7467Epoch 1/10\n",
      "52/52 [==============================] - 55s 1s/step - loss: 0.7977 - acc: 0.7480 - val_loss: 0.6089 - val_acc: 0.7959\n",
      "Epoch 7/10\n",
      "51/52 [============================>.] - ETA: 0s - loss: 0.7768 - acc: 0.7542Epoch 1/10\n",
      "52/52 [==============================] - 55s 1s/step - loss: 0.7768 - acc: 0.7541 - val_loss: 0.5718 - val_acc: 0.8265\n",
      "Epoch 8/10\n",
      "51/52 [============================>.] - ETA: 0s - loss: 0.7681 - acc: 0.7511Epoch 1/10\n",
      "52/52 [==============================] - 56s 1s/step - loss: 0.7709 - acc: 0.7486 - val_loss: 0.5213 - val_acc: 0.8469\n",
      "Epoch 9/10\n",
      "51/52 [============================>.] - ETA: 0s - loss: 0.6788 - acc: 0.7735Epoch 1/10\n",
      "52/52 [==============================] - 57s 1s/step - loss: 0.6766 - acc: 0.7736 - val_loss: 0.7723 - val_acc: 0.7398\n",
      "Epoch 10/10\n",
      "51/52 [============================>.] - ETA: 0s - loss: 0.7479 - acc: 0.7710Epoch 1/10\n",
      "52/52 [==============================] - 58s 1s/step - loss: 0.7547 - acc: 0.7694 - val_loss: 0.9599 - val_acc: 0.7296\n"
     ]
    }
   ],
   "source": [
    "history = model.fit_generator(\n",
    "    train_generator,\n",
    "    #steps_per_epoch= 1639 // 10,\n",
    "    epochs= 10,\n",
    "    validation_data=validation_generator)\n",
    "    #validation_steps= 196 // 10)"
   ]
  },
  {
   "cell_type": "code",
   "execution_count": 22,
   "metadata": {},
   "outputs": [
    {
     "data": {
      "text/plain": [
       "Text(0.5, 1.0, 'Training and validation loss')"
      ]
     },
     "execution_count": 22,
     "metadata": {},
     "output_type": "execute_result"
    },
    {
     "data": {
      "image/png": "[encoded data removed]",
      "text/plain": [
       "<Figure size 432x288 with 1 Axes>"
      ]
     },
     "metadata": {
      "needs_background": "light"
     },
     "output_type": "display_data"
    },
    {
     "data": {
      "image/png": "[encoded data removed]",
      "text/plain": [
       "<Figure size 432x288 with 1 Axes>"
      ]
     },
     "metadata": {
      "needs_background": "light"
     },
     "output_type": "display_data"
    }
   ],
   "source": [
    "# PLOT LOSS AND ACCURACY\n",
    "%matplotlib inline\n",
    "\n",
    "import matplotlib.image  as mpimg\n",
    "import matplotlib.pyplot as plt\n",
    "\n",
    "#-----------------------------------------------------------\n",
    "# Retrieve a list of list results on training and test data\n",
    "# sets for each training epoch\n",
    "#-----------------------------------------------------------\n",
    "acc=history.history['acc']\n",
    "val_acc=history.history['val_acc']\n",
    "loss=history.history['loss']\n",
    "val_loss=history.history['val_loss']\n",
    "\n",
    "epochs=range(len(acc)) # Get number of epochs\n",
    "\n",
    "#------------------------------------------------\n",
    "# Plot training and validation accuracy per epoch\n",
    "#------------------------------------------------\n",
    "plt.plot(epochs, acc, 'r', \"Training Accuracy\")\n",
    "plt.plot(epochs, val_acc, 'b', \"Validation Accuracy\")\n",
    "plt.title('Training and validation accuracy')\n",
    "plt.figure()\n",
    "\n",
    "#------------------------------------------------\n",
    "# Plot training and validation loss per epoch\n",
    "#------------------------------------------------\n",
    "plt.plot(epochs, loss, 'r', \"Training Loss\")\n",
    "plt.plot(epochs, val_loss, 'b', \"Validation Loss\")\n",
    "\n",
    "\n",
    "plt.title('Training and validation loss')\n",
    "\n",
    "# Desired output. Charts with training and validation metrics. No crash :)"
   ]
  },
  {
   "cell_type": "code",
   "execution_count": 49,
   "metadata": {},
   "outputs": [
    {
     "name": "stdout",
     "output_type": "stream",
     "text": [
      "[[0. 0. 0. 0. 1. 0. 0. 0. 0. 0. 0. 0. 0. 0. 0. 0. 0. 0. 0. 0. 0. 0. 0. 0.\n",
      "  0. 0. 0. 0. 0. 0.]]\n",
      "Basella Alba (Basale)\n"
     ]
    }
   ],
   "source": [
    "from keras.preprocessing import image\n",
    "\n",
    "path = f\"{getcwd()}/Dataset/Segmented Medicinal Leaf Images/Basella Alba (Basale)/BA-S-019.jpg\"\n",
    "img = image.load_img(path, target_size=(150, 150))\n",
    "x = image.img_to_array(img)\n",
    "x = np.expand_dims(x, axis=0)\n",
    "\n",
    "images = np.vstack([x])\n",
    "classes = model.predict(images)\n",
    "print(classes)\n",
    "#for i, x in enumerate(os.listdir('/tmp/Segmented Medicinal Leaf Images')):\n",
    "for i, x in enumerate(classes[0]):\n",
    "    if x == 1.0:\n",
    "        print(os.listdir('/tmp/Segmented Medicinal Leaf Images')[i])\n",
    "        break"
   ]
  },
  {
   "cell_type": "code",
   "execution_count": 54,
   "metadata": {},
   "outputs": [],
   "source": [
    "model.save('mymodel')"
   ]
  }
 ],
 "metadata": {
  "kernelspec": {
   "display_name": "Python 3",
   "language": "python",
   "name": "python3"
  },
  "language_info": {
   "codemirror_mode": {
    "name": "ipython",
    "version": 3
   },
   "file_extension": ".py",
   "mimetype": "text/x-python",
   "name": "python",
   "nbconvert_exporter": "python",
   "pygments_lexer": "ipython3",
   "version": "3.7.6"
  }
 },
 "nbformat": 4,
 "nbformat_minor": 2
}
