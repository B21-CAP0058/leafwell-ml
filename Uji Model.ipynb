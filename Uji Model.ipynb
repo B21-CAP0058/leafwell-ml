{
 "cells": [
  {
   "cell_type": "code",
   "execution_count": 1,
   "metadata": {},
   "outputs": [
    {
     "name": "stdout",
     "output_type": "stream",
     "text": [
      "WARNING:tensorflow:From C:\\Users\\ASUS\\Anaconda3\\envs\\tensorflow\\lib\\site-packages\\tensorflow_core\\python\\ops\\init_ops.py:97: calling GlorotUniform.__init__ (from tensorflow.python.ops.init_ops) with dtype is deprecated and will be removed in a future version.\n",
      "Instructions for updating:\n",
      "Call initializer instance with the dtype argument instead of passing it to the constructor\n",
      "WARNING:tensorflow:From C:\\Users\\ASUS\\Anaconda3\\envs\\tensorflow\\lib\\site-packages\\tensorflow_core\\python\\ops\\init_ops.py:97: calling Zeros.__init__ (from tensorflow.python.ops.init_ops) with dtype is deprecated and will be removed in a future version.\n",
      "Instructions for updating:\n",
      "Call initializer instance with the dtype argument instead of passing it to the constructor\n",
      "WARNING:tensorflow:From C:\\Users\\ASUS\\Anaconda3\\envs\\tensorflow\\lib\\site-packages\\tensorflow_core\\python\\ops\\resource_variable_ops.py:1630: calling BaseResourceVariable.__init__ (from tensorflow.python.ops.resource_variable_ops) with constraint is deprecated and will be removed in a future version.\n",
      "Instructions for updating:\n",
      "If using Keras pass *_constraint arguments to layers.\n"
     ]
    }
   ],
   "source": [
    "from tensorflow import keras\n",
    "model = keras.models.load_model('model-8may21') #baca file model di sini"
   ]
  },
  {
   "cell_type": "code",
   "execution_count": 20,
   "metadata": {},
   "outputs": [
    {
     "name": "stdout",
     "output_type": "stream",
     "text": [
      "Classification Result:\n",
      "------------------------------------------------------------\n",
      "Confidence level of each class:\n",
      "[[2.7170913e-06 1.4814329e-06 1.4806354e-09 5.0546019e-04 1.5604217e-03\n",
      "  1.7413497e-04 8.9646519e-12 4.0790765e-03 9.0814537e-01 3.9469631e-04\n",
      "  2.9422139e-04 8.7011084e-03 1.1101092e-06 3.5633545e-02 5.8412462e-09\n",
      "  1.5421789e-05 1.0652362e-12 2.9204934e-09 5.8191752e-08 1.4073143e-04\n",
      "  2.3976155e-03 3.3650808e-02 3.8985567e-05 3.9531334e-04 3.5234718e-03\n",
      "  2.2733108e-04 1.4793794e-07 7.7907407e-14 1.1657903e-04 4.5491819e-10]]\n",
      "------------------------------------------------------------\n",
      "Plant Name: Ficus Auriculata (Roxburgh fig)\n",
      "Confidence: 0.90814537\n",
      "Plant Index: 8\n"
     ]
    }
   ],
   "source": [
    "import numpy as np\n",
    "import os\n",
    "from os import getcwd\n",
    "from keras.preprocessing import image\n",
    "\n",
    "path = f\"{getcwd()}/Dataset/Segmented Medicinal Leaf Images/8/FA-S-015.jpg\"   #Baca file gambar (input yg akan diprediksi)\n",
    "img = image.load_img(path, target_size=(150, 150))\n",
    "x = image.img_to_array(img)/255\n",
    "x = np.expand_dims(x, axis=0)\n",
    "\n",
    "images = np.vstack([x])\n",
    "classes = model.predict(images)\n",
    "#for i, x in enumerate(os.listdir('/tmp/Segmented Medicinal Leaf Images')):\n",
    "for i, x in enumerate(classes[0]):\n",
    "    if x == max(classes[0]):\n",
    "        print(\"Classification Result:\")\n",
    "        print(\"------------------------------------------------------------\")\n",
    "        print(\"Confidence level of each class:\")\n",
    "        print(classes)\n",
    "        print(\"------------------------------------------------------------\")\n",
    "        print(\"Plant Name:\", os.listdir('/tmp/Segmented Medicinal Leaf Images')[i])\n",
    "        print(\"Confidence:\", max(classes[0]))\n",
    "        print(\"Plant Index:\", i)\n",
    "        break"
   ]
  }
 ],
 "metadata": {
  "kernelspec": {
   "display_name": "Python 3",
   "language": "python",
   "name": "python3"
  },
  "language_info": {
   "codemirror_mode": {
    "name": "ipython",
    "version": 3
   },
   "file_extension": ".py",
   "mimetype": "text/x-python",
   "name": "python",
   "nbconvert_exporter": "python",
   "pygments_lexer": "ipython3",
   "version": "3.7.6"
  }
 },
 "nbformat": 4,
 "nbformat_minor": 4
}
